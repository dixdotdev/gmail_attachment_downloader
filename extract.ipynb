{
 "cells": [
  {
   "cell_type": "code",
   "execution_count": null,
   "metadata": {},
   "outputs": [],
   "source": [
    "import ast\n",
    "import email\n",
    "import hashlib\n",
    "import imaplib\n",
    "import os\n",
    "import re\n",
    "import getpass\n",
    "from datetime import datetime\n",
    "from collections import defaultdict, Counter\n"
   ]
  },
  {
   "cell_type": "markdown",
   "metadata": {},
   "source": [
    "## General Set Up\n",
    "The username will prompt for a username input to ensure you don't store it in the script.\n",
    "\n",
    "The password will prompt for a password input to ensure you don't store it in the script.\n",
    "\n",
    "> **_Note_**: Most people will likely have 2fa enabled, so you will need to use a personal access token to authenticate. You can create one in your Google Account > Security > 2fa > App Passwords."
   ]
  },
  {
   "cell_type": "code",
   "execution_count": null,
   "metadata": {},
   "outputs": [],
   "source": [
    "user_name = getpass.getpass(prompt=\"Enter your Gmail address: \")\n",
    "password = getpass.getpass(prompt=\"Enter your app password: \")\n",
    "save_path = \"./ouput\"\n"
   ]
  },
  {
   "cell_type": "markdown",
   "metadata": {},
   "source": [
    "## Search Operations and Query Syntax for Gmail IMAP\n",
    "The Gmail IMAP service allows you to search for emails with the same syntax as you would be able to if you were using the browser edition of Gmail by using the X-GM-RAW [1] extension of the SEARCH command.\n",
    "\n",
    "This is especially useful for searching for emails with attachments as it will also search within the content of the attachments to find files.\n",
    "\n",
    "In my case I wanted to search for an explicit string within quotes, so the sample provided below includes syntax for that arrangement.\n",
    "\n",
    "You can modify the query to suit your needs.\n",
    "\n",
    "Other options could include:\n",
    "    - before:yyyy-mm-dd (before the specified date)\n",
    "    - after:yyyy-mm-dd (after the specified date)\n",
    "    - larger:20M (larger than 20MB)\n",
    "    - smaller:20M (smaller than 20MB)\n",
    "    - filename:pdf (search for pdf files)\n",
    "    etc.\n",
    "\n",
    "[1] https://developers.google.com/gmail/imap/imap-extensions#extension_of_the_search_command_x-gm-raw\n"
   ]
  },
  {
   "cell_type": "code",
   "execution_count": null,
   "metadata": {},
   "outputs": [],
   "source": [
    "query = '(X-GM-RAW \"has:attachment \\\\\" <your search query> \\\\\"\")'\n"
   ]
  },
  {
   "cell_type": "markdown",
   "metadata": {},
   "source": [
    "### Folder Specification\n",
    "Uncomment the below helper function to list the folders available for your account the folder to search in. In my case I wanted to search all mail items including sent so I used the \\[Gmail\\]\\/All Mail folder in the format provided below.\n",
    "\n",
    "> **_Note:_** This could also be '\"[Google Mail]/All Mail\"' - it was for my secondary account"
   ]
  },
  {
   "cell_type": "code",
   "execution_count": null,
   "metadata": {},
   "outputs": [],
   "source": [
    "# find_folders(user_name, password)\n"
   ]
  },
  {
   "cell_type": "code",
   "execution_count": null,
   "metadata": {},
   "outputs": [],
   "source": [
    "folder = '\"[Gmail]/All Mail\"'\n"
   ]
  },
  {
   "cell_type": "markdown",
   "metadata": {},
   "source": [
    "#### Function Definitions"
   ]
  },
  {
   "cell_type": "code",
   "execution_count": null,
   "metadata": {},
   "outputs": [],
   "source": [
    "def save_state(resume_file, user_name, save_path):\n",
    "    with open(resume_file, \"w\") as f:\n",
    "        f.write(f\"user_name = {user_name}\\n\")\n",
    "        f.write(f\"save_path = {save_path}\\n\")\n",
    "    open(resume_file, \"a\").close()\n"
   ]
  },
  {
   "cell_type": "code",
   "execution_count": null,
   "metadata": {},
   "outputs": [],
   "source": [
    "def recover(resume_file, processed_id_file):\n",
    "    user_name, save_path = None, None\n",
    "    ProcessedMsgIDs = set()\n",
    "    if os.path.exists(resume_file):\n",
    "        print(\"Recovering last state...\")\n",
    "        if os.path.exists(processed_id_file):\n",
    "            with open(processed_id_file) as f:\n",
    "                processed_ids = f.read()\n",
    "                for ProcessedId in filter(None, processed_ids.split(\",\")):\n",
    "                    ProcessedMsgIDs.add(ast.literal_eval(ProcessedId))\n",
    "        with open(resume_file) as f:\n",
    "            last_state = f.read()\n",
    "            user_name = last_state.split(\"\\n\")[0].split(\" = \")[1]\n",
    "            save_path = last_state.split(\"\\n\")[1].split(\" = \")[1]\n",
    "    else:\n",
    "        print(\"No Recovery file found.\")\n",
    "    open(processed_id_file, \"a\").close()\n",
    "    open(resume_file, \"a\").close()\n",
    "    return user_name, save_path, ProcessedMsgIDs\n"
   ]
  },
  {
   "cell_type": "code",
   "execution_count": null,
   "metadata": {},
   "outputs": [],
   "source": [
    "def decode_mime_words(s):\n",
    "    \"\"\"Decode MIME encoded words in a string to a UTF-8 string.\"\"\"\n",
    "    decoded_words = email.header.decode_header(s)\n",
    "    return \"\".join(\n",
    "        word.decode(encoding or \"utf-8\") if isinstance(word, bytes) else word\n",
    "        for word, encoding in decoded_words\n",
    "    )\n"
   ]
  },
  {
   "cell_type": "code",
   "execution_count": null,
   "metadata": {},
   "outputs": [],
   "source": [
    "def generate_mail_messages(\n",
    "    gmail_user_name,\n",
    "    password,\n",
    "    processed_id_file,\n",
    "    processed_ids,\n",
    "    folder,\n",
    "    query,\n",
    "    max_attempts=3,\n",
    "):\n",
    "    with imaplib.IMAP4_SSL(\"imap.gmail.com\") as imap_session:\n",
    "        imap_session.login(gmail_user_name, password)\n",
    "        imap_session.select(folder)\n",
    "        search_query = query\n",
    "        session_typ, data = imap_session.search(None, search_query)\n",
    "        print(\"Searching Inbox for emails with attachments.\")\n",
    "        if session_typ != \"OK\":\n",
    "            print(\"Error searching Inbox.\")\n",
    "            raise Exception(\"Error searching Inbox.\")\n",
    "        for msg_id in data[0].split():\n",
    "            print(f\"Processing mail {msg_id}\")\n",
    "            if msg_id not in processed_ids:\n",
    "                print(f\"Fetching mail {msg_id}\")\n",
    "                attempts = 0\n",
    "                while attempts < max_attempts:\n",
    "                    msg_typ, message_parts = imap_session.fetch(msg_id, \"(RFC822)\")\n",
    "                    if msg_typ == \"OK\":\n",
    "                        email_body = message_parts[0][1]\n",
    "                        yield email.message_from_bytes(email_body)\n",
    "                        processed_ids.add(msg_id)\n",
    "                        with open(processed_id_file, \"a\") as resume:\n",
    "                            resume.write(f\"{msg_id},\")\n",
    "                        break  # Break out of the retry loop\n",
    "                    else:\n",
    "                        print(\n",
    "                            f\"Error fetching mail {msg_id}, attempt {attempts + 1}/{max_attempts}\"\n",
    "                        )\n",
    "                        attempts += 1\n",
    "                if attempts == max_attempts:\n",
    "                    print(\n",
    "                        f\"Failed to fetch mail {msg_id} after {max_attempts} attempts.\"\n",
    "                    )\n"
   ]
  },
  {
   "cell_type": "code",
   "execution_count": null,
   "metadata": {},
   "outputs": [],
   "source": [
    "def build_directory(directory):\n",
    "    if not os.path.exists(directory):\n",
    "        os.makedirs(directory)\n"
   ]
  },
  {
   "cell_type": "code",
   "execution_count": null,
   "metadata": {},
   "outputs": [],
   "source": [
    "def extract_email_address(from_line):\n",
    "    email_regex = r\"[a-zA-Z0-9._%+-]+@[a-zA-Z0-9.-]+\\.[a-zA-Z]{2,4}\"\n",
    "    match = re.search(email_regex, from_line)\n",
    "    if match:\n",
    "        return match.group(0)\n",
    "    else:\n",
    "        return None\n"
   ]
  },
  {
   "cell_type": "code",
   "execution_count": null,
   "metadata": {},
   "outputs": [],
   "source": [
    "def by_date_domain(save_folder, date, domain):\n",
    "    sender_domain = \"unknown_sender\"\n",
    "    sender_domain = domain if domain is not None else \"unknown_sender_domain\"\n",
    "    path_date = date.strftime(\"/%Y/%m_%b/\")\n",
    "    build_directory(f\"{save_folder}{path_date}{sender_domain}\")\n",
    "    new_save_folder = f\"{save_folder}{path_date}{sender_domain}\"\n",
    "    return new_save_folder\n"
   ]
  },
  {
   "cell_type": "code",
   "execution_count": null,
   "metadata": {},
   "outputs": [],
   "source": [
    "def save_attachments(message, directory, file_name_counter, file_name_hashes):\n",
    "    msg_from = message[\"From\"]\n",
    "    msg_date = message[\"Date\"]\n",
    "    parsed_date = email.utils.parsedate_tz(msg_date)\n",
    "    date = datetime.fromtimestamp(email.utils.mktime_tz(parsed_date))\n",
    "    file_safe_date = date.strftime(\"%Y_%m_%d\")\n",
    "    msg_domain = (\n",
    "        msg_from.split(\"@\")[-1].split(\".\")[0].replace(\">\", \"\")\n",
    "        if \"@\" in msg_from\n",
    "        else None\n",
    "    )\n",
    "    email_address = extract_email_address(msg_from)\n",
    "    file_safe_address = email_address.replace(\"@\", \"_\").replace(\".\", \"_\")\n",
    "\n",
    "    directory = by_date_domain(directory, date, msg_domain)\n",
    "\n",
    "    for part in message.walk():\n",
    "        disposition = part.get(\"Content-Disposition\")\n",
    "        if part.get_content_maintype() == \"multipart\" or (\n",
    "            disposition is not None\n",
    "            and disposition.split(\";\")[0].strip() not in [\"attachment\", \"inline\"]\n",
    "        ):\n",
    "            continue\n",
    "\n",
    "        file_name = part.get_filename()\n",
    "        if file_name:\n",
    "            file_name = decode_mime_words(file_name)\n",
    "            file_name = re.sub(r'[\\\\/*?:\"<>|]', \"_\", file_name)\n",
    "            file_name = \"\".join(file_name.splitlines())\n",
    "            file_name = f\"{file_safe_date}_{file_safe_address}_{file_name}\"\n",
    "            payload = part.get_payload(decode=True)\n",
    "            if payload:\n",
    "                x_hash = hashlib.md5(payload).hexdigest()\n",
    "                if x_hash not in file_name_hashes[file_name]:\n",
    "                    file_name_counter[file_name] += 1\n",
    "                    file_str, file_extension = os.path.splitext(file_name)\n",
    "                    new_file_name = (\n",
    "                        f\"{file_str}(v.{file_name_counter[file_name]}){file_extension}\"\n",
    "                        if file_name_counter[file_name] > 1\n",
    "                        else file_name\n",
    "                    )\n",
    "                    print(f\"\\tStoring: {new_file_name}\")\n",
    "                    file_name_hashes[file_name].add(x_hash)\n",
    "                    file_path = os.path.join(directory, new_file_name)\n",
    "                    if not os.path.exists(file_path):\n",
    "                        with open(file_path, \"wb\") as fp:\n",
    "                            fp.write(payload)\n",
    "                    else:\n",
    "                        print(f\"\\tExists in destination: {new_file_name}\")\n",
    "                else:\n",
    "                    print(f\"\\tDuplicate detected, skipping: {file_name}\")\n",
    "            else:\n",
    "                print(\"\\tNo payload detected for this part.\")\n",
    "        else:\n",
    "            print(\"\\tNo filename detected for this part.\")\n"
   ]
  },
  {
   "cell_type": "code",
   "execution_count": null,
   "metadata": {},
   "outputs": [],
   "source": [
    "def find_folders(gmail_user_name, password):\n",
    "    imap_session = imaplib.IMAP4_SSL(\"imap.gmail.com\")\n",
    "    imap_session.login(gmail_user_name, password)\n",
    "    print(\"Fetching folders...\")\n",
    "    folders = imap_session.list()\n",
    "    print(folders)\n",
    "    imap_session.logout()\n"
   ]
  },
  {
   "cell_type": "markdown",
   "metadata": {},
   "source": [
    "##### Main Operation Executes Below"
   ]
  },
  {
   "cell_type": "code",
   "execution_count": null,
   "metadata": {},
   "outputs": [],
   "source": [
    "file_name_counter = Counter()\n",
    "file_name_hashes = defaultdict(set)\n",
    "resume_file = \"resume.txt\"\n",
    "processed_id_file = \"processed_ids.txt\"\n",
    "\n",
    "save_state(resume_file, user_name, save_path)\n",
    "\n",
    "user_name, save_path, processed_ids = recover(resume_file, processed_id_file)\n",
    "\n",
    "for msg in generate_mail_messages(\n",
    "    gmail_user_name=user_name,\n",
    "    password=password,\n",
    "    processed_id_file=processed_id_file,\n",
    "    processed_ids=processed_ids,\n",
    "    folder=folder,\n",
    "    query=query,\n",
    "):\n",
    "    save_attachments(msg, save_path, file_name_counter, file_name_hashes)\n",
    "\n",
    "os.remove(processed_id_file)\n",
    "os.remove(resume_file)\n"
   ]
  }
 ],
 "metadata": {
  "kernelspec": {
   "display_name": ".venv",
   "language": "python",
   "name": "python3"
  },
  "language_info": {
   "codemirror_mode": {
    "name": "ipython",
    "version": 3
   },
   "file_extension": ".py",
   "mimetype": "text/x-python",
   "name": "python",
   "nbconvert_exporter": "python",
   "pygments_lexer": "ipython3",
   "version": "3.11.6"
  }
 },
 "nbformat": 4,
 "nbformat_minor": 2
}
